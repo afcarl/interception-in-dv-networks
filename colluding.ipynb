{
 "metadata": {
  "name": "",
  "signature": "sha256:ca90f481d73b4442cfddbf9bfec50d1acf012a35117b1e94dc687a72827c3c01"
 },
 "nbformat": 3,
 "nbformat_minor": 0,
 "worksheets": [
  {
   "cells": [
    {
     "cell_type": "heading",
     "level": 1,
     "metadata": {},
     "source": [
      "Colluding Models"
     ]
    },
    {
     "cell_type": "code",
     "collapsed": false,
     "input": [
      "from igraph import *\n",
      "import numpy as np\n",
      "import random\n",
      "import pickle\n",
      "import pylab as plt\n",
      "import sys\n",
      "import time\n",
      "from multiprocessing import Pool\n",
      "from itertools import izip\n",
      "from math import sqrt\n",
      "%matplotlib inline"
     ],
     "language": "python",
     "metadata": {},
     "outputs": [],
     "prompt_number": 1
    },
    {
     "cell_type": "heading",
     "level": 3,
     "metadata": {},
     "source": [
      "Simulation on Random Graphs"
     ]
    },
    {
     "cell_type": "markdown",
     "metadata": {},
     "source": [
      "* 3 ways to pick a set of colluding agents:\n",
      " * Uniformly at random\n",
      " * Nodes of largest degrees\n",
      " * Greedily pick the node that results in the largest increase in intercepted paths\n",
      "* 2 broadcast strategies:\n",
      " * Lie independently\n",
      " * Colluding according to the optimal strategy"
     ]
    },
    {
     "cell_type": "code",
     "collapsed": false,
     "input": [
      "class Stopwatch:\n",
      "    start_time=None\n",
      "    def go(self):\n",
      "        self.start_time=time.time()\n",
      "        sys.stdout.flush()\n",
      "    def stop(self):\n",
      "        print \"Elapsed time: %f seconds\" % (time.time()-self.start_time)\n",
      "        sys.stdout.flush()\n",
      "    def check(self):\n",
      "        return time.time()-self.start_time\n",
      "\n",
      "\n",
      "def lie_independent():\n",
      "    rho=np.maximum(dist[agents,:][:,users]-2,1)\n",
      "    intercept_pairs=set()\n",
      "    for x in agents:\n",
      "        dist_via_agent=np.add.outer(dist[users,x],rho[idx[x],:])  # distance between every pair passing the collusing agent\n",
      "        diff=dist_via_agent-dist[users,:][:,users]+np.diag(np.inf*np.ones(users.shape[0]))\n",
      "        intercept_pairs.update(izip(*(diff<0).nonzero()))\n",
      "        #for p in zip(*((diff==0).nonzero())):\n",
      "        #    if p in already_intercepted_pairs:\n",
      "        #        intercept_pairs.add(p)\n",
      "    intercept_pairs.update(already_intercepted_pairs)\n",
      "    return len(intercept_pairs)\n",
      "\n",
      "\n",
      "def colluding():\n",
      "    rho=np.maximum(dist[agents,:][:,users]-2,1)\n",
      "    temprho=rho.copy()\n",
      "    for i in xrange(K):\n",
      "        update=0\n",
      "        for x in agents:\n",
      "            temp=rho[idx[x],:]\n",
      "            for y in agents:\n",
      "                if y!=x:\n",
      "                    temp2=np.maximum(dist[x,y]-2+rho[idx[y],:],1)\n",
      "                    if (temp2<temp).any():\n",
      "                        temp[temp2<temp]=temp2[temp2<temp]\n",
      "                        update=1\n",
      "            temprho[idx[x],:]=temp\n",
      "        rho=temprho\n",
      "        if update==0:\n",
      "            break\n",
      "    intercept_pairs=set()\n",
      "    for x in agents:\n",
      "        dist_via_agent=np.add.outer(dist[users,x],rho[idx[x],:])  # distance between every pair passing the collusing agent\n",
      "        diff=dist_via_agent-dist[users,:][:,users]+np.diag(np.inf*np.ones(users.shape[0]))\n",
      "        intercept_pairs.update(izip(*(diff<0).nonzero()))\n",
      "        #for p in zip(*((diff==0).nonzero())):\n",
      "        #    if p in already_intercepted_pairs:\n",
      "        #        intercept_pairs.add(p)\n",
      "    intercept_pairs.update(already_intercepted_pairs)\n",
      "    return len(intercept_pairs)\n",
      "\n",
      "\n",
      "def parallel():\n",
      "    def lie_independent():\n",
      "        rho=np.maximum(dist[agents,:][:,users]-2,1)\n",
      "        intercept_pairs=set()\n",
      "        for x in agents:\n",
      "            dist_via_agent=np.add.outer(dist[users,x],rho[idx[x],:])  # distance between every pair passing the collusing agent\n",
      "            diff=dist_via_agent-dist[users,:][:,users]+np.diag(np.inf*np.ones(users.shape[0]))\n",
      "            intercept_pairs.update(izip(*(diff<0).nonzero()))\n",
      "            #for p in zip(*((diff==0).nonzero())):\n",
      "            #    if p in already_intercepted_pairs:\n",
      "            #        intercept_pairs.add(p)\n",
      "        intercept_pairs.update(already_intercepted_pairs)\n",
      "        return len(intercept_pairs)\n",
      "    \n",
      "    def colluding():\n",
      "        rho=np.maximum(dist[agents,:][:,users]-2,1)\n",
      "        temprho=rho.copy()\n",
      "        for i in xrange(K):\n",
      "            update=0\n",
      "            for x in agents:\n",
      "                temp=rho[idx[x],:]\n",
      "                for y in agents:\n",
      "                    if y!=x:\n",
      "                        temp2=np.maximum(dist[x,y]-2+rho[idx[y],:],1)\n",
      "                        if (temp2<temp).any():\n",
      "                            temp[temp2<temp]=temp2[temp2<temp]\n",
      "                            update=1\n",
      "                temprho[idx[x],:]=temp\n",
      "            rho=temprho\n",
      "            if update==0:\n",
      "                break\n",
      "        intercept_pairs=set()\n",
      "        for x in agents:\n",
      "            dist_via_agent=np.add.outer(dist[users,x],rho[idx[x],:])  # distance between every pair passing the collusing agent\n",
      "            diff=dist_via_agent-dist[users,:][:,users]+np.diag(np.inf*np.ones(users.shape[0]))\n",
      "            intercept_pairs.update(izip(*(diff<0).nonzero()))\n",
      "            #for p in zip(*((diff==0).nonzero())):\n",
      "            #    if p in already_intercepted_pairs:\n",
      "            #        intercept_pairs.add(p)\n",
      "        intercept_pairs.update(already_intercepted_pairs)\n",
      "        return len(intercept_pairs)\n",
      "    \n",
      "    tic=Stopwatch()\n",
      "    agents=random.sample(xrange(G.vcount()),K)  # pick a random sample of colluding agents\n",
      "    agents.sort()\n",
      "    idx=dict()\n",
      "    for key,value in enumerate(agents):\n",
      "        idx[value]=key\n",
      "    users=np.setdiff1d(xrange(G.vcount()),agents)\n",
      "    dist2=G.subgraph(users).shortest_paths()  # distance whithout going through agents\n",
      "    dist2=np.array(dist2)\n",
      "    already_intercepted_pairs=zip(*(dist2-dist[users,:][:,users]).nonzero()) # pairs whose shortest paths go throuth agents\n",
      "    del dist2\n",
      "    # lie independently\n",
      "    tic.go()\n",
      "    y1=lie_independent()\n",
      "    print \"Independent Strategy \",\n",
      "    tic.stop()\n",
      "    # colluding\n",
      "    tic.go()\n",
      "    y2=colluding()\n",
      "    print \"Colluding \",\n",
      "    tic.stop()\n",
      "    return y1,y2"
     ],
     "language": "python",
     "metadata": {},
     "outputs": [],
     "prompt_number": 2
    },
    {
     "cell_type": "code",
     "collapsed": false,
     "input": [
      "N=1000  # number of nodes\n",
      "M=2000  # number of edges\n",
      "nagents=[]    # number of colluding agents\n",
      "tic=Stopwatch()\n",
      "print 'Loading Network...',\n",
      "tic.go()\n",
      "#G=Graph.Read_GML('Internet/US_BGP.gml')\n",
      "#G=Graph.Erdos_Renyi(n=N,m=M)  # Generate an ER random graph\n",
      "#G=Graph.Barabasi(n=N)  # Generate a scale free network\n",
      "G=Graph.Watts_Strogatz(1, N, 2, 0.1, loops=False, multiple=False)\n",
      "if not G.is_connected():  # restrict on the largest connected component\n",
      "    G=G.components().giant()\n",
      "\n",
      "tic.stop()\n",
      "N=G.vcount()\n",
      "M=G.ecount()\n",
      "K=1\n",
      "t_rand=[]\n",
      "t_degree=[]\n",
      "intercepts_rand=[]\n",
      "intercepts_degree=[]\n",
      "intercepts_rand_collud=[]\n",
      "intercepts_degree_collud=[]\n",
      "while K<=32:\n",
      "    nagents.append(K)\n",
      "    dist=G.shortest_paths()  # calculate distance between every paris of nodes\n",
      "    dist=np.array(dist)\n",
      "    \n",
      "    # pick a random set of agents\n",
      "    tic.go()\n",
      "    intercepts_rand.append([])\n",
      "    intercepts_rand_collud.append([])\n",
      "    pool=Pool(10)\n",
      "    proc=[]\n",
      "    for j in xrange(10):\n",
      "        proc.append(pool.apply_async(parallel))\n",
      "    pool.close()\n",
      "    pool.join()\n",
      "    for p in proc:\n",
      "        res=p.get()\n",
      "        # lie independently\n",
      "        intercepts_rand[-1].append(res[0])\n",
      "        # colluding\n",
      "        intercepts_rand_collud[-1].append(res[1])\n",
      "    print '{} agents, random set, independent: {}, colluding {}'.format(K,np.mean(intercepts_rand[-1]),np.mean(intercepts_rand_collud[-1]))   \n",
      "    tic.stop()\n",
      "    t_rand.append(tic.check())\n",
      "    # pick nodes with largest degrees\n",
      "    tic.go()\n",
      "    agents=np.argsort(G.degree())[-K:]\n",
      "    agents.sort()\n",
      "    idx=dict()\n",
      "    for key,value in enumerate(agents):\n",
      "        idx[value]=key\n",
      "    users=np.setdiff1d(xrange(G.vcount()),agents)\n",
      "    dist2=G.subgraph(users).shortest_paths()  # calculate distance between every paris of nodes\n",
      "    dist2=np.array(dist2)\n",
      "    already_intercepted_pairs=zip(*(dist2-dist[users,:][:,users]).nonzero())\n",
      "    # lie independently\n",
      "    intercepts_degree.append(lie_independent())\n",
      "    # colluding\n",
      "    intercepts_degree_collud.append(colluding())\n",
      "    print '{} agents, degree set, independent: {}, colluding {}'.format(K,intercepts_degree[-1],intercepts_degree_collud[-1])\n",
      "    tic.stop()\n",
      "    t_degree.append(tic.check())\n",
      "    K*=2\n",
      "    del dist2\n",
      "\n",
      "with open('watts.pkl','wb') as outfile:\n",
      "    pickle.dump((G,nagents,intercepts_rand,intercepts_rand_collud,t_rand,intercepts_degree,intercepts_degree_collud,t_degree),outfile)"
     ],
     "language": "python",
     "metadata": {},
     "outputs": []
    },
    {
     "cell_type": "code",
     "collapsed": false,
     "input": [
      "intercepts_greedy=[]\n",
      "intercepts_greedy_collud=[]\n",
      "intercepts=0\n",
      "greedy=[]\n",
      "for K in xrange(1,33):\n",
      "    # pick the node that increases intercepted paths most\n",
      "    max_intercept=0\n",
      "    arg_max=None\n",
      "    for x in np.setdiff1d(xrange(G.vcount()),greedy):\n",
      "        users=np.setdiff1d(xrange(G.vcount()),greedy+[x])\n",
      "        dist_via_agent=np.add.outer(dist[users,x],dist[x,users])  # distance between every pair passing the collusing agent\n",
      "        diff=dist_via_agent-dist[users,:][:,users]+np.diag(np.inf*np.ones(users.shape[0]))\n",
      "        intercept=(diff==0).nonzero()[0].shape[0]/2.0+(diff==1).nonzero()[0].shape[0]/2.0\n",
      "        if intercept>max_intercept:\n",
      "            max_intercept=intercept\n",
      "            arg_max=x\n",
      "    greedy.append(x)\n",
      "    intercepts+=max_intercept\n",
      "    intercepts_greedy.append(intercepts)\n",
      "    print '{} agents, greedy: {}, '.format(K,intercepts)\n",
      "\n",
      "with open('US.pkl','wb') as outfile:\n",
      "    pickle.dump((G,nagents,intercepts_rand,intercepts_degree,intercepts_greedy),outfile)"
     ],
     "language": "python",
     "metadata": {},
     "outputs": []
    },
    {
     "cell_type": "heading",
     "level": 3,
     "metadata": {},
     "source": [
      "Results"
     ]
    },
    {
     "cell_type": "code",
     "collapsed": false,
     "input": [
      "G,nagents,intercepts_rand,intercepts_rand_collud,t_rand,intercepts_degree,intercepts_degree_collud,t_degree=pickle.load(open('US.pkl'))\n",
      "#G,nagents,intercepts_rand,intercepts_rand_collud,intercepts_degree,intercepts_degree_collud=pickle.load(open('ER.pkl'))\n",
      "#G,nagents,intercepts_rand,intercepts_rand_collud,t_rand,intercepts_degree,intercepts_degree_collud,t_degree=pickle.load(open('barabasi.pkl'))\n",
      "#G,nagents,intercepts_rand,intercepts_rand_collud,t_rand,intercepts_degree,intercepts_degree_collud,t_degree=pickle.load(open('watts.pkl'))"
     ],
     "language": "python",
     "metadata": {},
     "outputs": [],
     "prompt_number": 46
    },
    {
     "cell_type": "heading",
     "level": 4,
     "metadata": {},
     "source": [
      "Number of paths intercepted"
     ]
    },
    {
     "cell_type": "code",
     "collapsed": false,
     "input": [
      "N=G.vcount()\n",
      "nagents=np.array(nagents)\n",
      "y_rand=[]\n",
      "e_rand=[]\n",
      "y_rand_collud=[]\n",
      "e_rand_collud=[]\n",
      "for j in xrange(len(intercepts_rand)):\n",
      "    y_rand.append(np.mean(1.0*np.array(intercepts_rand[j])/(N-nagents[j])/(N-nagents[j]-1)))\n",
      "    e_rand.append(np.std(1.0*np.array(intercepts_rand[j])/(N-nagents[j])/(N-nagents[j]-1))/sqrt(len(intercepts_rand[j])))\n",
      "    y_rand_collud.append(np.mean(1.0*np.array(intercepts_rand_collud[j])/(N-nagents[j])/(N-nagents[j]-1)))\n",
      "    e_rand_collud.append(np.std(1.0*np.array(intercepts_rand_collud[j])/(N-nagents[j])/(N-nagents[j]-1))/sqrt(len(intercepts_rand[j])))\n",
      "plt.errorbar(1.0*nagents/N,y_rand,e_rand,fmt='b--',lw=2)\n",
      "plt.errorbar(1.0*nagents/N,y_rand_collud,e_rand_collud,fmt='b',lw=2)\n",
      "plt.plot(1.0*nagents/N,1.0*np.array(intercepts_degree)/(N-nagents)/(N-nagents-1),'r--',lw=2)\n",
      "plt.plot(1.0*nagents/N,1.0*np.array(intercepts_degree_collud)/(N-nagents)/(N-nagents-1),'r',lw=2)\n",
      "plt.legend(['rand ind',\"rand collud\",\"degree ind\",\"degree collud\"],loc='best')\n",
      "#plt.legend(['rand ind',\"rand collud\"],loc='best')\n",
      "plt.xlabel('fraction of colluding agents');\n",
      "plt.ylabel('fraction of paths intercepted');"
     ],
     "language": "python",
     "metadata": {},
     "outputs": [
      {
       "metadata": {},
       "output_type": "display_data",
       "png": "[encoded data removed]",
       "text": [
        "<matplotlib.figure.Figure at 0x10bc539d0>"
       ]
      }
     ],
     "prompt_number": 47
    },
    {
     "cell_type": "heading",
     "level": 6,
     "metadata": {},
     "source": [
      "Distribution of interceptions across multiple samples of colluding agents"
     ]
    },
    {
     "cell_type": "code",
     "collapsed": false,
     "input": [
      "K=5 # number of colluding agents = 2^K\n",
      "plt.hist(1.0*np.array(intercepts_rand[K])/(N-nagents[K])/(N-nagents[K]-1),15);\n",
      "plt.hist(1.0*np.array(intercepts_rand_collud[K])/(N-nagents[K])/(N-nagents[K]-1),15);\n",
      "plt.xlabel('number of paths intercepted');\n",
      "plt.ylabel('frequency');\n",
      "plt.legend([\"independent\",\"colluding\"],loc=\"best\");\n",
      "plt.title(\"{} agents\".format(nagents[K]));"
     ],
     "language": "python",
     "metadata": {},
     "outputs": [
      {
       "metadata": {},
       "output_type": "display_data",
       "png": "[encoded data removed]",
       "text": [
        "<matplotlib.figure.Figure at 0x10b615050>"
       ]
      }
     ],
     "prompt_number": 35
    },
    {
     "cell_type": "code",
     "collapsed": false,
     "input": [
      "nagents"
     ],
     "language": "python",
     "metadata": {},
     "outputs": [
      {
       "metadata": {},
       "output_type": "pyout",
       "prompt_number": 37,
       "text": [
        "array([ 1,  2,  4,  8, 16, 32])"
       ]
      }
     ],
     "prompt_number": 37
    },
    {
     "cell_type": "code",
     "collapsed": false,
     "input": [
      "y_rand # fraction of paths intercepted by independent lying of random sets"
     ],
     "language": "python",
     "metadata": {},
     "outputs": [
      {
       "metadata": {},
       "output_type": "pyout",
       "prompt_number": 40,
       "text": [
        "[0.020919352329202189,\n",
        " 0.034212886834348484,\n",
        " 0.071099422594289127,\n",
        " 0.14753904466646139,\n",
        " 0.25513993504647708,\n",
        " 0.39217409228951183]"
       ]
      }
     ],
     "prompt_number": 40
    },
    {
     "cell_type": "code",
     "collapsed": false,
     "input": [
      "y_rand_collud # fraction of paths intercepted by collusion of random sets"
     ],
     "language": "python",
     "metadata": {},
     "outputs": [
      {
       "metadata": {},
       "output_type": "pyout",
       "prompt_number": 41,
       "text": [
        "[0.020919352329202189,\n",
        " 0.034394908021097258,\n",
        " 0.072277189841871578,\n",
        " 0.17810525868750463,\n",
        " 0.35850426270987018,\n",
        " 0.61539712589662254]"
       ]
      }
     ],
     "prompt_number": 41
    },
    {
     "cell_type": "code",
     "collapsed": false,
     "input": [
      "1.0*np.array(intercepts_degree)/(N-nagents)/(N-nagents-1) \n",
      "# fraction of paths intercepted by independent lying of nodes with largest degrees"
     ],
     "language": "python",
     "metadata": {},
     "outputs": [
      {
       "metadata": {},
       "output_type": "pyout",
       "prompt_number": 44,
       "text": [
        "array([ 0.09524587,  0.15566115,  0.27305112,  0.41246563,  0.55451066,\n",
        "        0.72956549])"
       ]
      }
     ],
     "prompt_number": 44
    },
    {
     "cell_type": "code",
     "collapsed": false,
     "input": [
      "1.0*np.array(intercepts_degree_collud)/(N-nagents)/(N-nagents-1) \n",
      "# fraction of paths intercepted by collusion of nodes with largest degrees"
     ],
     "language": "python",
     "metadata": {},
     "outputs": [
      {
       "metadata": {},
       "output_type": "pyout",
       "prompt_number": 45,
       "text": [
        "array([ 0.09524587,  0.15596108,  0.49001106,  0.63780458,  0.80678774,\n",
        "        0.90522871])"
       ]
      }
     ],
     "prompt_number": 45
    }
   ],
   "metadata": {}
  }
 ]
}